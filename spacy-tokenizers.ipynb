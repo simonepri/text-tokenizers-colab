{
  "nbformat": 4,
  "nbformat_minor": 0,
  "metadata": {
    "colab": {
      "name": "spacy-tokenizers",
      "provenance": [],
      "collapsed_sections": [],
      "machine_shape": "hm"
    },
    "kernelspec": {
      "name": "python3",
      "display_name": "Python 3"
    }
  },
  "cells": [
    {
      "cell_type": "markdown",
      "metadata": {
        "id": "tnoX4z8Qvbo0",
        "colab_type": "text"
      },
      "source": [
        "# Setup Machine"
      ]
    },
    {
      "cell_type": "code",
      "metadata": {
        "id": "3Xtz3l7IZyDZ",
        "colab_type": "code",
        "cellView": "form",
        "colab": {}
      },
      "source": [
        "# @markdown ## Install python 3\n",
        "!env DEBIAN_FRONTEND=noninteractive apt-get install -y -qq python3 python3-dev python3-venv python3-pip > /dev/null\n",
        "!python --version"
      ],
      "execution_count": 0,
      "outputs": []
    },
    {
      "cell_type": "code",
      "metadata": {
        "id": "g7VI499fZ1De",
        "colab_type": "code",
        "cellView": "form",
        "colab": {}
      },
      "source": [
        "# @markdown ## Upgrade pip\n",
        "!python -m pip install -qq --upgrade pip\n",
        "!pip --version"
      ],
      "execution_count": 0,
      "outputs": []
    },
    {
      "cell_type": "code",
      "metadata": {
        "id": "G3PWlHw3aJXE",
        "colab_type": "code",
        "cellView": "form",
        "colab": {}
      },
      "source": [
        "# @markdown ## Install dependencies\n",
        "!pip install -qq spacy==2.2.4"
      ],
      "execution_count": 0,
      "outputs": []
    },
    {
      "cell_type": "markdown",
      "metadata": {
        "id": "jIE59LALvjmE",
        "colab_type": "text"
      },
      "source": [
        "# spaCy Library\n",
        "https://github.com/explosion/spaCy"
      ]
    },
    {
      "cell_type": "code",
      "metadata": {
        "id": "n86d8ghiTJXk",
        "colab_type": "code",
        "cellView": "form",
        "outputId": "b0a42385-0b87-47ab-ed14-2949fd3a0093",
        "colab": {
          "base_uri": "https://localhost:8080/",
          "height": 425
        }
      },
      "source": [
        "# @markdown ## Built-in models in the library\n",
        "# @markdown More models available [here](https://spacy.io/usage/models#languages).\n",
        "\n",
        "def get_spacy_model_list():\n",
        "    from spacy.cli.download import get_compatibility\n",
        "    compat_current_version = get_compatibility()\n",
        "    models = sorted(list(compat_current_version.keys()))\n",
        "    return models\n",
        "\n",
        "\n",
        "print(\"Available models:\")\n",
        "for model in get_spacy_model_list():\n",
        "    print(\"  %s\" % model)\n"
      ],
      "execution_count": 4,
      "outputs": [
        {
          "output_type": "stream",
          "text": [
            "Available models:\n",
            "  de_core_news_md\n",
            "  de_core_news_sm\n",
            "  de_trf_bertbasecased_lg\n",
            "  el_core_news_md\n",
            "  el_core_news_sm\n",
            "  en_core_web_lg\n",
            "  en_core_web_md\n",
            "  en_core_web_sm\n",
            "  en_trf_bertbaseuncased_lg\n",
            "  en_trf_distilbertbaseuncased_lg\n",
            "  en_trf_robertabase_lg\n",
            "  en_trf_xlnetbasecased_lg\n",
            "  en_vectors_web_lg\n",
            "  es_core_news_md\n",
            "  es_core_news_sm\n",
            "  fr_core_news_md\n",
            "  fr_core_news_sm\n",
            "  it_core_news_sm\n",
            "  lt_core_news_sm\n",
            "  nb_core_news_sm\n",
            "  nl_core_news_sm\n",
            "  pt_core_news_sm\n",
            "  xx_ent_wiki_sm\n"
          ],
          "name": "stdout"
        }
      ]
    },
    {
      "cell_type": "code",
      "metadata": {
        "id": "ljwsZkjT7QIx",
        "colab_type": "code",
        "cellView": "form",
        "colab": {}
      },
      "source": [
        "# @markdown ## Configure the tokenizer\n",
        "\n",
        "# @markdown Select the model whose tokenizer you want to load.\n",
        "MODEL = \"en_core_web_sm\"  # @param [\"de_core_news_md\", \"de_core_news_sm\", \"de_trf_bertbasecased_lg\", \"el_core_news_md\", \"el_core_news_sm\", \"en_core_web_lg\", \"en_core_web_md\", \"en_core_web_sm\", \"en_trf_bertbaseuncased_lg\", \"en_trf_distilbertbaseuncased_lg\", \"en_trf_robertabase_lg\", \"en_trf_xlnetbasecased_lg\", \"en_vectors_web_lg\", \"es_core_news_md\", \"es_core_news_sm\", \"fr_core_news_md\", \"fr_core_news_sm\", \"it_core_news_sm\", \"lt_core_news_sm\", \"nb_core_news_sm\", \"nl_core_news_sm\", \"pt_core_news_sm\", \"xx_ent_wiki_sm\"]\n",
        "\n",
        "!spacy download $MODEL -qq\n",
        "\n",
        "import spacy\n",
        "import importlib\n",
        "\n",
        "spacy.cli.download(MODEL, \"-qq\")\n",
        "model = importlib.import_module(MODEL)\n",
        "nlp = model.load()"
      ],
      "execution_count": 0,
      "outputs": []
    },
    {
      "cell_type": "code",
      "metadata": {
        "id": "59cFNdM4DBYd",
        "colab_type": "code",
        "cellView": "form",
        "colab": {}
      },
      "source": [
        "# @markdown ## Sentences to tokenize"
      ],
      "execution_count": 0,
      "outputs": []
    },
    {
      "cell_type": "code",
      "metadata": {
        "id": "vzGR3eW5b6zv",
        "colab_type": "code",
        "cellView": "both",
        "colab": {
          "base_uri": "https://localhost:8080/",
          "height": 34
        },
        "outputId": "7405eac3-1f9d-4fec-984c-3eba4c7e37b2"
      },
      "source": [
        "%%writefile sentences.txt\n",
        "\"Always bear in mind that your own resolution to success is more important than any other one thing.\" -Abraham Lincoln\n",
        "\"In the end, it's not the years in your life that count. It's the life in your years.\" -Abraham Lincoln\n",
        "\"Only a life lived for others is a life worthwhile.\" -Albert Einstein\n",
        "\"Try not to become a man of success. Rather become a man of value.\" -Albert Einstein\n",
        "\"Before anything else, preparation is the key to success.\" -Alexander Graham Bell\n",
        "\"The most difficult thing is the decision to act, the rest is merely tenacity.\" -Amelia Earhart\n",
        "\"How wonderful it is that nobody need wait a single moment before starting to improve the world.\" -Anne Frank\n",
        "\"Whoever is happy will make others happy too.\" -Anne Frank\n",
        "\"First, have a definite, clear practical ideal; a goal, an objective. Second, have the necessary means to achieve your ends; wisdom, money, materials, and methods. Third, adjust all your means to that end.\" -Aristotle\n",
        "\"It is during our darkest moments that we must focus to see the light.\" -Aristotle\n",
        "\"Nothing is impossible, the word itself says, ‘I'm possible!'\" -Audrey Hepburn\n",
        "\"The question isn't who is going to let me; it's who is going to stop me.\" -Ayn Rand\n",
        "\"Never let the fear of striking out keep you from playing the game.\" -Babe Ruth\n",
        "\"The real test is not whether you avoid this failure, because you won't. It's whether you let it harden or shame you into inaction, or whether you learn from it; whether you choose to persevere.\" -Barack Obama\n",
        "\"I didn't fail the test. I just found 100 ways to do it wrong.\" -Benjamin Franklin\n",
        "\"Tell me and I forget. Teach me and I remember. Involve me and I learn.\" -Benjamin Franklin\n",
        "\"You may be disappointed if you fail, but you are doomed if you don't try.\" -Beverly Sills\n",
        "\"Love the life you live. Live the life you love.\" -Bob Marley\n",
        "\"Life is made of ever so many partings welded together.\" -Charles Dickens\n",
        "\"Life is 10% what happens to me and 90% of how I react to it.\" -Charles Swindoll\n",
        "\"There are no secrets to success. It is the result of preparation, hard work, and learning from failure.\" -Colin Powell\n",
        "\"The road to success and the road to failure are almost exactly the same.\" -Colin R. Davis\n",
        "\"It does not matter how slowly you go as long as you do not stop.\" -Confucius\n",
        "\"Life is really simple, but we insist on making it complicated.\" -Confucius\n",
        "\"Success seems to be connected with action. Successful people keep moving. They make mistakes but they don't quit.\" -Conrad Hilton\n",
        "\"Life is ours to be spent, not to be saved.\" -D. H. Lawrence\n",
        "\"The purpose of our lives is to be happy.\" -Dalai Lama\n",
        "\"A successful man is one who can lay a firm foundation with the bricks others have thrown at him.\" -David Brinkley\n",
        "\"You have brains in your head. You have feet in your shoes. You can steer yourself any direction you choose.\" -Dr. Seuss\n",
        "\"If life were predictable it would cease to be life and be without flavor.\" -Eleanor Roosevelt\n",
        "\"The future belongs to those who believe in the beauty of their dreams.\" -Eleanor Roosevelt\n",
        "\"I never dreamed about success, I worked for it.\" -Estee Lauder\n",
        "\"I attribute my success to this: I never gave or took any excuse.\" -Florence Nightingale\n",
        "\"The only limit to our realization of tomorrow will be our doubts of today.\" -Franklin D. Roosevelt\n",
        "\"When you reach the end of your rope, tie a knot in it and hang on.\" -Franklin D. Roosevelt\n",
        "\"Everything you've ever wanted is on the other side of fear.\" -George Addair\n",
        "\"Dreaming, after all, is a form of planning.\" -Gloria Steinem\n",
        "\"If you genuinely want something, don't wait for it -- teach yourself to be impatient.\" -Gurbaksh Chahal\n",
        "\"Life itself is the most wonderful fairy tale.\" -Hans Christian Andersen\n",
        "\"The best and most beautiful things in the world cannot be seen or even touched - they must be felt with the heart.\" -Helen Keller\n",
        "\"Life is either a daring adventure or nothing at all.\" -Helen Keller\n",
        "\"Go confidently in the direction of your dreams! Live the life you've imagined.\" -Henry David Thoreau\n",
        "\"Success usually comes to those who are too busy to be looking for it.\" -Henry David Thoreau\n",
        "\"When everything seems to be going against you, remember that the airplane takes off against the wind, not with it.\" -Henry Ford\n",
        "\"Whether you think you can or you think you can't, you're right.\" -Henry Ford\n",
        "\"It is better to fail in originality than to succeed in imitation.\" -Herman Melville\n",
        "\"If you set your goals ridiculously high and it's a failure, you will fail above everyone else's success.\" -James Cameron\n",
        "\"Life is a long lesson in humility.\" -James M. Barrie\n",
        "\"If you are not willing to risk the usual, you will have to settle for the ordinary.\" -Jim Rohn\n",
        "\"Successful people do what unsuccessful people are not willing to do. Don't wish it were easier; wish you were better.\" -Jim Rohn\n",
        "\"Don't be afraid to give up the good to go for the great.\" -John D. Rockefeller\n",
        "\"The secret of success is to do the common thing uncommonly well.\" -John D. Rockefeller Jr.\n",
        "\"Life is what happens when you're busy making other plans.\" -John Lennon\n",
        "\"Do not let making a living prevent you from making a life.\" -John Wooden\n",
        "\"Things work out best for those who make the best of how things work out.\" -John Wooden\n",
        "\"May you live all the days of your life.\" -Jonathan Swift\n",
        "\"Too many of us are not living our dreams because we are living our fears.\" -Les Brown\n",
        "\"You only live once, but if you do it right, once is enough.\" -Mae West\n",
        "\"Always remember that you are absolutely unique. Just like everyone else.\" -Margaret Mead\n",
        "\"Keep smiling, because life is a beautiful thing and there's so much to smile about.\" -Marilyn Monroe\n",
        "\"Twenty years from now you will be more disappointed by the things that you didn't do than by the ones you did do. So, throw off the bowlines, sail away from safe harbor, catch the trade winds in your sails. Explore, Dream, Discover.\" -Mark Twain\n",
        "\"I've learned that people will forget what you said, people will forget what you did, but people will never forget how you made them feel.\" -Maya Angelou\n",
        "\"You will face many defeats in life, but never let yourself be defeated.\" -Maya Angelou\n",
        "\"I alone cannot change the world, but I can cast a stone across the water to create many ripples.\" -Mother Teresa\n",
        "\"In this life we cannot do great things. We can only do small things with great love.\" -Mother Teresa\n",
        "\"Spread love everywhere you go. Let no one ever come to you without leaving happier.\" -Mother Teresa\n",
        "\"Whatever the mind of man can conceive and believe, it can achieve.\" -Napoleon Hill\n",
        "\"The greatest glory in living lies not in never falling, but in rising every time we fall.\" -Nelson Mandela\n",
        "\"Dream big and dare to fail.\" -Norman Vaughan\n",
        "\"If you look at what you have in life, you'll always have more. If you look at what you don't have in life, you'll never have enough.\" -Oprah Winfrey\n",
        "\"You become what you believe.\" -Oprah Winfrey\n",
        "\"You know you are on the road to success if you would do your job and not be paid for it.\" -Oprah Winfrey\n",
        "\"Life is never fair, and perhaps it is a good thing for most of us that it is not.\" -Oscar Wilde\n",
        "\"Do not go where the path may lead, go instead where there is no path and leave a trail.\" -Ralph Waldo Emerson\n",
        "\"Life is a succession of lessons which must be lived to be understood.\" -Ralph Waldo Emerson\n",
        "\"Live in the sunshine, swim the sea, drink the wild air.\" -Ralph Waldo Emerson\n",
        "\"The only person you are destined to become is the person you decide to be.\" -Ralph Waldo Emerson\n",
        "\"Life is trying things to see if they work.\" -Ray Bradbury\n",
        "\"In three words I can sum up everything I've learned about life: it goes on.\" -Robert Frost\n",
        "\"Don't judge each day by the harvest you reap but by the seeds that you plant.\" -Robert Louis Stevenson\n",
        "\"I have learned over the years that when one's mind is made up, this diminishes fear.\" -Rosa Parks\n",
        "\"If you're offered a seat on a rocket ship, don't ask what seat! Just get on.\" -Sheryl Sandberg\n",
        "\"An unexamined life is not worth living.\" -Socrates\n",
        "\"If you really look closely, most overnight successes took a long time.\" -Steve Jobs\n",
        "\"Your time is limited, so don't waste it living someone else's life. Don't be trapped by dogma -- which is living with the results of other people's thinking.\" -Steve Jobs\n",
        "\"Believe you can and you're halfway there.\" -Theodore Roosevelt\n",
        "\"Many of life's failures are people who did not realize how close they were to success when they gave up.\" -Thomas A. Edison\n",
        "\"I failed my way to success.\" -Thomas Edison\n",
        "\"I find that the harder I work, the more luck I seem to have.\" -Thomas Jefferson\n",
        "\"The only impossible journey is the one you never begin.\" -Tony Robbins\n",
        "\"People who succeed have momentum. The more they succeed, the more they want to succeed and the more they find a way to succeed. Similarly, when someone is failing, the tendency is to get on a downward spiral that can even become a self-fulfilling prophecy.\" -Tony Robbins\n",
        "\"The only place where success comes before work is in the dictionary.\" -Vidal Sassoon\n",
        "\"Winning isn't everything, but wanting to win is.\" -Vince Lombardi\n",
        "\"I would rather die of passion than of boredom.\" -Vincent van Gogh\n",
        "\"The way to get started is to quit talking and begin doing.\" -Walt Disney\n",
        "\"You miss 100% of the shots you don't take.\" -Wayne Gretzky\n",
        "\"Success is walking from failure to failure with no loss of enthusiasm.\" -Winston Churchill\n",
        "\"Success is not final; failure is not fatal: It is the courage to continue that counts.\" -Winston S. Churchill\n",
        "\"If you want to achieve excellence, you can get there today. As of this second, quit doing less-than-excellent work.\" -Thomas J. Watson\n",
        "\"Don't be distracted by criticism. Remember -- the only taste of success some people get is to take a bite out of you.\" -Zig Ziglar"
      ],
      "execution_count": 7,
      "outputs": [
        {
          "output_type": "stream",
          "text": [
            "Writing sentences.txt\n"
          ],
          "name": "stdout"
        }
      ]
    },
    {
      "cell_type": "code",
      "metadata": {
        "id": "NSSKlv3xcBW2",
        "colab_type": "code",
        "cellView": "form",
        "colab": {}
      },
      "source": [
        "# @markdown ## Tokenize sentences\n",
        "\n",
        "# @markdown Character/String to use as separator when printing tokens to file.\n",
        "TOKENS_SEPARATOR = \"|\"  # @param {type: \"string\"}\n",
        "\n",
        "\n",
        "with open(\"sentences.txt\", \"r\") as in_file:\n",
        "    with open(\"tokenized_sentences.txt\", \"w+\") as out_file:\n",
        "        for sentence in in_file:\n",
        "            if sentence.endswith(\"\\n\"):\n",
        "                sentence = sentence[:-1]\n",
        "            doc = nlp(sentence)\n",
        "            tokens = list(map(lambda t : t.text_with_ws, doc))\n",
        "            out_file.write(TOKENS_SEPARATOR.join(tokens))\n",
        "            out_file.write(\"\\n\")\n"
      ],
      "execution_count": 0,
      "outputs": []
    },
    {
      "cell_type": "code",
      "metadata": {
        "id": "PYrGSg2-cSGO",
        "colab_type": "code",
        "cellView": "form",
        "outputId": "b2c7e192-92d7-4aa9-f3d3-100bbf6db622",
        "colab": {
          "base_uri": "https://localhost:8080/",
          "height": 1000
        }
      },
      "source": [
        "# @markdown ## Tokenized sentences\n",
        "!cat tokenized_sentences.txt"
      ],
      "execution_count": 9,
      "outputs": [
        {
          "output_type": "stream",
          "text": [
            "\"|Always|bear|in|mind|that|your|own|resolution|to|success|is|more|important|than|any|other|one|thing|.|\"|-Abraham|Lincoln\n",
            "\"|In|the|end|,|it|'s|not|the|years|in|your|life|that|count|.|It|'s|the|life|in|your|years|.|\"|-Abraham|Lincoln\n",
            "\"|Only|a|life|lived|for|others|is|a|life|worthwhile|.|\"|-Albert|Einstein\n",
            "\"|Try|not|to|become|a|man|of|success|.|Rather|become|a|man|of|value|.|\"|-Albert|Einstein\n",
            "\"|Before|anything|else|,|preparation|is|the|key|to|success|.|\"|-Alexander|Graham|Bell\n",
            "\"|The|most|difficult|thing|is|the|decision|to|act|,|the|rest|is|merely|tenacity|.|\"|-Amelia|Earhart\n",
            "\"|How|wonderful|it|is|that|nobody|need|wait|a|single|moment|before|starting|to|improve|the|world|.|\"|-Anne|Frank\n",
            "\"|Whoever|is|happy|will|make|others|happy|too|.|\"|-Anne|Frank\n",
            "\"|First|,|have|a|definite|,|clear|practical|ideal|;|a|goal|,|an|objective|.|Second|,|have|the|necessary|means|to|achieve|your|ends|;|wisdom|,|money|,|materials|,|and|methods|.|Third|,|adjust|all|your|means|to|that|end|.|\"|-Aristotle\n",
            "\"|It|is|during|our|darkest|moments|that|we|must|focus|to|see|the|light|.|\"|-Aristotle\n",
            "\"|Nothing|is|impossible|,|the|word|itself|says|,|‘|I|'m|possible|!|'|\"|-Audrey|Hepburn\n",
            "\"|The|question|is|n't|who|is|going|to|let|me|;|it|'s|who|is|going|to|stop|me|.|\"|-Ayn|Rand\n",
            "\"|Never|let|the|fear|of|striking|out|keep|you|from|playing|the|game|.|\"|-Babe|Ruth\n",
            "\"|The|real|test|is|not|whether|you|avoid|this|failure|,|because|you|wo|n't|.|It|'s|whether|you|let|it|harden|or|shame|you|into|inaction|,|or|whether|you|learn|from|it|;|whether|you|choose|to|persevere|.|\"|-Barack|Obama\n",
            "\"|I|did|n't|fail|the|test|.|I|just|found|100|ways|to|do|it|wrong|.|\"|-Benjamin|Franklin\n",
            "\"|Tell|me|and|I|forget|.|Teach|me|and|I|remember|.|Involve|me|and|I|learn|.|\"|-Benjamin|Franklin\n",
            "\"|You|may|be|disappointed|if|you|fail|,|but|you|are|doomed|if|you|do|n't|try|.|\"|-Beverly|Sills\n",
            "\"|Love|the|life|you|live|.|Live|the|life|you|love|.|\"|-Bob|Marley\n",
            "\"|Life|is|made|of|ever|so|many|partings|welded|together|.|\"|-Charles|Dickens\n",
            "\"|Life|is|10|%|what|happens|to|me|and|90|%|of|how|I|react|to|it|.|\"|-Charles|Swindoll\n",
            "\"|There|are|no|secrets|to|success|.|It|is|the|result|of|preparation|,|hard|work|,|and|learning|from|failure|.|\"|-Colin|Powell\n",
            "\"|The|road|to|success|and|the|road|to|failure|are|almost|exactly|the|same|.|\"|-Colin|R.|Davis\n",
            "\"|It|does|not|matter|how|slowly|you|go|as|long|as|you|do|not|stop|.|\"|-Confucius\n",
            "\"|Life|is|really|simple|,|but|we|insist|on|making|it|complicated|.|\"|-Confucius\n",
            "\"|Success|seems|to|be|connected|with|action|.|Successful|people|keep|moving|.|They|make|mistakes|but|they|do|n't|quit|.|\"|-Conrad|Hilton\n",
            "\"|Life|is|ours|to|be|spent|,|not|to|be|saved|.|\"|-D.|H.|Lawrence\n",
            "\"|The|purpose|of|our|lives|is|to|be|happy|.|\"|-Dalai|Lama\n",
            "\"|A|successful|man|is|one|who|can|lay|a|firm|foundation|with|the|bricks|others|have|thrown|at|him|.|\"|-David|Brinkley\n",
            "\"|You|have|brains|in|your|head|.|You|have|feet|in|your|shoes|.|You|can|steer|yourself|any|direction|you|choose|.|\"|-Dr|.|Seuss\n",
            "\"|If|life|were|predictable|it|would|cease|to|be|life|and|be|without|flavor|.|\"|-Eleanor|Roosevelt\n",
            "\"|The|future|belongs|to|those|who|believe|in|the|beauty|of|their|dreams|.|\"|-Eleanor|Roosevelt\n",
            "\"|I|never|dreamed|about|success|,|I|worked|for|it|.|\"|-Estee|Lauder\n",
            "\"|I|attribute|my|success|to|this|:|I|never|gave|or|took|any|excuse|.|\"|-Florence|Nightingale\n",
            "\"|The|only|limit|to|our|realization|of|tomorrow|will|be|our|doubts|of|today|.|\"|-Franklin|D.|Roosevelt\n",
            "\"|When|you|reach|the|end|of|your|rope|,|tie|a|knot|in|it|and|hang|on|.|\"|-Franklin|D.|Roosevelt\n",
            "\"|Everything|you|'ve|ever|wanted|is|on|the|other|side|of|fear|.|\"|-George|Addair\n",
            "\"|Dreaming|,|after|all|,|is|a|form|of|planning|.|\"|-Gloria|Steinem\n",
            "\"|If|you|genuinely|want|something|,|do|n't|wait|for|it|--|teach|yourself|to|be|impatient|.|\"|-Gurbaksh|Chahal\n",
            "\"|Life|itself|is|the|most|wonderful|fairy|tale|.|\"|-Hans|Christian|Andersen\n",
            "\"|The|best|and|most|beautiful|things|in|the|world|can|not|be|seen|or|even|touched|-|they|must|be|felt|with|the|heart|.|\"|-Helen|Keller\n",
            "\"|Life|is|either|a|daring|adventure|or|nothing|at|all|.|\"|-Helen|Keller\n",
            "\"|Go|confidently|in|the|direction|of|your|dreams|!|Live|the|life|you|'ve|imagined|.|\"|-Henry|David|Thoreau\n",
            "\"|Success|usually|comes|to|those|who|are|too|busy|to|be|looking|for|it|.|\"|-Henry|David|Thoreau\n",
            "\"|When|everything|seems|to|be|going|against|you|,|remember|that|the|airplane|takes|off|against|the|wind|,|not|with|it|.|\"|-Henry|Ford\n",
            "\"|Whether|you|think|you|can|or|you|think|you|ca|n't|,|you|'re|right|.|\"|-Henry|Ford\n",
            "\"|It|is|better|to|fail|in|originality|than|to|succeed|in|imitation|.|\"|-Herman|Melville\n",
            "\"|If|you|set|your|goals|ridiculously|high|and|it|'s|a|failure|,|you|will|fail|above|everyone|else|'s|success|.|\"|-James|Cameron\n",
            "\"|Life|is|a|long|lesson|in|humility|.|\"|-James|M.|Barrie\n",
            "\"|If|you|are|not|willing|to|risk|the|usual|,|you|will|have|to|settle|for|the|ordinary|.|\"|-Jim|Rohn\n",
            "\"|Successful|people|do|what|unsuccessful|people|are|not|willing|to|do|.|Do|n't|wish|it|were|easier|;|wish|you|were|better|.|\"|-Jim|Rohn\n",
            "\"|Do|n't|be|afraid|to|give|up|the|good|to|go|for|the|great|.|\"|-John|D.|Rockefeller\n",
            "\"|The|secret|of|success|is|to|do|the|common|thing|uncommonly|well|.|\"|-John|D.|Rockefeller|Jr.\n",
            "\"|Life|is|what|happens|when|you|'re|busy|making|other|plans|.|\"|-John|Lennon\n",
            "\"|Do|not|let|making|a|living|prevent|you|from|making|a|life|.|\"|-John|Wooden\n",
            "\"|Things|work|out|best|for|those|who|make|the|best|of|how|things|work|out|.|\"|-John|Wooden\n",
            "\"|May|you|live|all|the|days|of|your|life|.|\"|-Jonathan|Swift\n",
            "\"|Too|many|of|us|are|not|living|our|dreams|because|we|are|living|our|fears|.|\"|-Les|Brown\n",
            "\"|You|only|live|once|,|but|if|you|do|it|right|,|once|is|enough|.|\"|-Mae|West\n",
            "\"|Always|remember|that|you|are|absolutely|unique|.|Just|like|everyone|else|.|\"|-Margaret|Mead\n",
            "\"|Keep|smiling|,|because|life|is|a|beautiful|thing|and|there|'s|so|much|to|smile|about|.|\"|-Marilyn|Monroe\n",
            "\"|Twenty|years|from|now|you|will|be|more|disappointed|by|the|things|that|you|did|n't|do|than|by|the|ones|you|did|do|.|So|,|throw|off|the|bowlines|,|sail|away|from|safe|harbor|,|catch|the|trade|winds|in|your|sails|.|Explore|,|Dream|,|Discover|.|\"|-Mark|Twain\n",
            "\"|I|'ve|learned|that|people|will|forget|what|you|said|,|people|will|forget|what|you|did|,|but|people|will|never|forget|how|you|made|them|feel|.|\"|-Maya|Angelou\n",
            "\"|You|will|face|many|defeats|in|life|,|but|never|let|yourself|be|defeated|.|\"|-Maya|Angelou\n",
            "\"|I|alone|can|not|change|the|world|,|but|I|can|cast|a|stone|across|the|water|to|create|many|ripples|.|\"|-Mother|Teresa\n",
            "\"|In|this|life|we|can|not|do|great|things|.|We|can|only|do|small|things|with|great|love|.|\"|-Mother|Teresa\n",
            "\"|Spread|love|everywhere|you|go|.|Let|no|one|ever|come|to|you|without|leaving|happier|.|\"|-Mother|Teresa\n",
            "\"|Whatever|the|mind|of|man|can|conceive|and|believe|,|it|can|achieve|.|\"|-Napoleon|Hill\n",
            "\"|The|greatest|glory|in|living|lies|not|in|never|falling|,|but|in|rising|every|time|we|fall|.|\"|-Nelson|Mandela\n",
            "\"|Dream|big|and|dare|to|fail|.|\"|-Norman|Vaughan\n",
            "\"|If|you|look|at|what|you|have|in|life|,|you|'ll|always|have|more|.|If|you|look|at|what|you|do|n't|have|in|life|,|you|'ll|never|have|enough|.|\"|-Oprah|Winfrey\n",
            "\"|You|become|what|you|believe|.|\"|-Oprah|Winfrey\n",
            "\"|You|know|you|are|on|the|road|to|success|if|you|would|do|your|job|and|not|be|paid|for|it|.|\"|-Oprah|Winfrey\n",
            "\"|Life|is|never|fair|,|and|perhaps|it|is|a|good|thing|for|most|of|us|that|it|is|not|.|\"|-Oscar|Wilde\n",
            "\"|Do|not|go|where|the|path|may|lead|,|go|instead|where|there|is|no|path|and|leave|a|trail|.|\"|-Ralph|Waldo|Emerson\n",
            "\"|Life|is|a|succession|of|lessons|which|must|be|lived|to|be|understood|.|\"|-Ralph|Waldo|Emerson\n",
            "\"|Live|in|the|sunshine|,|swim|the|sea|,|drink|the|wild|air|.|\"|-Ralph|Waldo|Emerson\n",
            "\"|The|only|person|you|are|destined|to|become|is|the|person|you|decide|to|be|.|\"|-Ralph|Waldo|Emerson\n",
            "\"|Life|is|trying|things|to|see|if|they|work|.|\"|-Ray|Bradbury\n",
            "\"|In|three|words|I|can|sum|up|everything|I|'ve|learned|about|life|:|it|goes|on|.|\"|-Robert|Frost\n",
            "\"|Do|n't|judge|each|day|by|the|harvest|you|reap|but|by|the|seeds|that|you|plant|.|\"|-Robert|Louis|Stevenson\n",
            "\"|I|have|learned|over|the|years|that|when|one|'s|mind|is|made|up|,|this|diminishes|fear|.|\"|-Rosa|Parks\n",
            "\"|If|you|'re|offered|a|seat|on|a|rocket|ship|,|do|n't|ask|what|seat|!|Just|get|on|.|\"|-Sheryl|Sandberg\n",
            "\"|An|unexamined|life|is|not|worth|living|.|\"|-Socrates\n",
            "\"|If|you|really|look|closely|,|most|overnight|successes|took|a|long|time|.|\"|-Steve|Jobs\n",
            "\"|Your|time|is|limited|,|so|do|n't|waste|it|living|someone|else|'s|life|.|Do|n't|be|trapped|by|dogma|--|which|is|living|with|the|results|of|other|people|'s|thinking|.|\"|-Steve|Jobs\n",
            "\"|Believe|you|can|and|you|'re|halfway|there|.|\"|-Theodore|Roosevelt\n",
            "\"|Many|of|life|'s|failures|are|people|who|did|not|realize|how|close|they|were|to|success|when|they|gave|up|.|\"|-Thomas|A.|Edison\n",
            "\"|I|failed|my|way|to|success|.|\"|-Thomas|Edison\n",
            "\"|I|find|that|the|harder|I|work|,|the|more|luck|I|seem|to|have|.|\"|-Thomas|Jefferson\n",
            "\"|The|only|impossible|journey|is|the|one|you|never|begin|.|\"|-Tony|Robbins\n",
            "\"|People|who|succeed|have|momentum|.|The|more|they|succeed|,|the|more|they|want|to|succeed|and|the|more|they|find|a|way|to|succeed|.|Similarly|,|when|someone|is|failing|,|the|tendency|is|to|get|on|a|downward|spiral|that|can|even|become|a|self|-|fulfilling|prophecy|.|\"|-Tony|Robbins\n",
            "\"|The|only|place|where|success|comes|before|work|is|in|the|dictionary|.|\"|-Vidal|Sassoon\n",
            "\"|Winning|is|n't|everything|,|but|wanting|to|win|is|.|\"|-Vince|Lombardi\n",
            "\"|I|would|rather|die|of|passion|than|of|boredom|.|\"|-Vincent|van|Gogh\n",
            "\"|The|way|to|get|started|is|to|quit|talking|and|begin|doing|.|\"|-Walt|Disney\n",
            "\"|You|miss|100|%|of|the|shots|you|do|n't|take|.|\"|-Wayne|Gretzky\n",
            "\"|Success|is|walking|from|failure|to|failure|with|no|loss|of|enthusiasm|.|\"|-Winston|Churchill\n",
            "\"|Success|is|not|final|;|failure|is|not|fatal|:|It|is|the|courage|to|continue|that|counts|.|\"|-Winston|S.|Churchill\n",
            "\"|If|you|want|to|achieve|excellence|,|you|can|get|there|today|.|As|of|this|second|,|quit|doing|less|-|than|-|excellent|work|.|\"|-Thomas|J.|Watson\n",
            "\"|Do|n't|be|distracted|by|criticism|.|Remember|--|the|only|taste|of|success|some|people|get|is|to|take|a|bite|out|of|you|.|\"|-Zig|Ziglar\n"
          ],
          "name": "stdout"
        }
      ]
    },
    {
      "cell_type": "code",
      "metadata": {
        "id": "iMAWKDykd55q",
        "colab_type": "code",
        "colab": {}
      },
      "source": [
        ""
      ],
      "execution_count": 0,
      "outputs": []
    }
  ]
}
